{
 "cells": [
  {
   "cell_type": "code",
   "execution_count": 62,
   "metadata": {},
   "outputs": [
    {
     "name": "stdout",
     "output_type": "stream",
     "text": [
      "Requirement already satisfied: openai in /Users/raj/.pyenv/versions/3.11.4/lib/python3.11/site-packages (0.28.0)\n",
      "Requirement already satisfied: requests>=2.20 in /Users/raj/.pyenv/versions/3.11.4/lib/python3.11/site-packages (from openai) (2.32.3)\n",
      "Requirement already satisfied: tqdm in /Users/raj/.pyenv/versions/3.11.4/lib/python3.11/site-packages (from openai) (4.66.5)\n",
      "Requirement already satisfied: aiohttp in /Users/raj/.pyenv/versions/3.11.4/lib/python3.11/site-packages (from openai) (3.10.5)\n",
      "Requirement already satisfied: charset-normalizer<4,>=2 in /Users/raj/.pyenv/versions/3.11.4/lib/python3.11/site-packages (from requests>=2.20->openai) (3.3.2)\n",
      "Requirement already satisfied: idna<4,>=2.5 in /Users/raj/.pyenv/versions/3.11.4/lib/python3.11/site-packages (from requests>=2.20->openai) (3.7)\n",
      "Requirement already satisfied: urllib3<3,>=1.21.1 in /Users/raj/.pyenv/versions/3.11.4/lib/python3.11/site-packages (from requests>=2.20->openai) (2.2.2)\n",
      "Requirement already satisfied: certifi>=2017.4.17 in /Users/raj/.pyenv/versions/3.11.4/lib/python3.11/site-packages (from requests>=2.20->openai) (2024.7.4)\n",
      "Requirement already satisfied: aiohappyeyeballs>=2.3.0 in /Users/raj/.pyenv/versions/3.11.4/lib/python3.11/site-packages (from aiohttp->openai) (2.4.0)\n",
      "Requirement already satisfied: aiosignal>=1.1.2 in /Users/raj/.pyenv/versions/3.11.4/lib/python3.11/site-packages (from aiohttp->openai) (1.3.1)\n",
      "Requirement already satisfied: attrs>=17.3.0 in /Users/raj/.pyenv/versions/3.11.4/lib/python3.11/site-packages (from aiohttp->openai) (24.2.0)\n",
      "Requirement already satisfied: frozenlist>=1.1.1 in /Users/raj/.pyenv/versions/3.11.4/lib/python3.11/site-packages (from aiohttp->openai) (1.4.1)\n",
      "Requirement already satisfied: multidict<7.0,>=4.5 in /Users/raj/.pyenv/versions/3.11.4/lib/python3.11/site-packages (from aiohttp->openai) (6.0.5)\n",
      "Requirement already satisfied: yarl<2.0,>=1.0 in /Users/raj/.pyenv/versions/3.11.4/lib/python3.11/site-packages (from aiohttp->openai) (1.11.0)\n",
      "\n",
      "\u001b[1m[\u001b[0m\u001b[34;49mnotice\u001b[0m\u001b[1;39;49m]\u001b[0m\u001b[39;49m A new release of pip is available: \u001b[0m\u001b[31;49m23.1.2\u001b[0m\u001b[39;49m -> \u001b[0m\u001b[32;49m24.2\u001b[0m\n",
      "\u001b[1m[\u001b[0m\u001b[34;49mnotice\u001b[0m\u001b[1;39;49m]\u001b[0m\u001b[39;49m To update, run: \u001b[0m\u001b[32;49mpip install --upgrade pip\u001b[0m\n"
     ]
    }
   ],
   "source": [
    "! pip install openai"
   ]
  },
  {
   "cell_type": "code",
   "execution_count": 63,
   "metadata": {},
   "outputs": [
    {
     "name": "stdout",
     "output_type": "stream",
     "text": [
      "Requirement already satisfied: pandas in /Users/raj/.pyenv/versions/3.11.4/lib/python3.11/site-packages (2.2.2)\n",
      "Requirement already satisfied: matplotlib in /Users/raj/.pyenv/versions/3.11.4/lib/python3.11/site-packages (3.9.2)\n",
      "Requirement already satisfied: seaborn in /Users/raj/.pyenv/versions/3.11.4/lib/python3.11/site-packages (0.13.2)\n",
      "Requirement already satisfied: numpy>=1.23.2 in /Users/raj/.pyenv/versions/3.11.4/lib/python3.11/site-packages (from pandas) (2.0.1)\n",
      "Requirement already satisfied: python-dateutil>=2.8.2 in /Users/raj/.pyenv/versions/3.11.4/lib/python3.11/site-packages (from pandas) (2.9.0.post0)\n",
      "Requirement already satisfied: pytz>=2020.1 in /Users/raj/.pyenv/versions/3.11.4/lib/python3.11/site-packages (from pandas) (2024.1)\n",
      "Requirement already satisfied: tzdata>=2022.7 in /Users/raj/.pyenv/versions/3.11.4/lib/python3.11/site-packages (from pandas) (2024.1)\n",
      "Requirement already satisfied: contourpy>=1.0.1 in /Users/raj/.pyenv/versions/3.11.4/lib/python3.11/site-packages (from matplotlib) (1.3.0)\n",
      "Requirement already satisfied: cycler>=0.10 in /Users/raj/.pyenv/versions/3.11.4/lib/python3.11/site-packages (from matplotlib) (0.12.1)\n",
      "Requirement already satisfied: fonttools>=4.22.0 in /Users/raj/.pyenv/versions/3.11.4/lib/python3.11/site-packages (from matplotlib) (4.53.1)\n",
      "Requirement already satisfied: kiwisolver>=1.3.1 in /Users/raj/.pyenv/versions/3.11.4/lib/python3.11/site-packages (from matplotlib) (1.4.7)\n",
      "Requirement already satisfied: packaging>=20.0 in /Users/raj/.pyenv/versions/3.11.4/lib/python3.11/site-packages (from matplotlib) (24.1)\n",
      "Requirement already satisfied: pillow>=8 in /Users/raj/.pyenv/versions/3.11.4/lib/python3.11/site-packages (from matplotlib) (10.4.0)\n",
      "Requirement already satisfied: pyparsing>=2.3.1 in /Users/raj/.pyenv/versions/3.11.4/lib/python3.11/site-packages (from matplotlib) (3.1.2)\n",
      "Requirement already satisfied: six>=1.5 in /Users/raj/.pyenv/versions/3.11.4/lib/python3.11/site-packages (from python-dateutil>=2.8.2->pandas) (1.16.0)\n",
      "\n",
      "\u001b[1m[\u001b[0m\u001b[34;49mnotice\u001b[0m\u001b[1;39;49m]\u001b[0m\u001b[39;49m A new release of pip is available: \u001b[0m\u001b[31;49m23.1.2\u001b[0m\u001b[39;49m -> \u001b[0m\u001b[32;49m24.2\u001b[0m\n",
      "\u001b[1m[\u001b[0m\u001b[34;49mnotice\u001b[0m\u001b[1;39;49m]\u001b[0m\u001b[39;49m To update, run: \u001b[0m\u001b[32;49mpip install --upgrade pip\u001b[0m\n"
     ]
    }
   ],
   "source": [
    "! pip install pandas matplotlib seaborn"
   ]
  },
  {
   "cell_type": "code",
   "execution_count": 90,
   "metadata": {},
   "outputs": [],
   "source": [
    "# Set your OpenAI API key\n",
    "openai.api_key = 'xxx'\n",
    "os.environ[\"OPENAI_API_KEY\"] = 'xxxx'"
   ]
  },
  {
   "cell_type": "code",
   "execution_count": 65,
   "metadata": {},
   "outputs": [],
   "source": [
    "import openai\n",
    "import asyncio\n",
    "import pandas as pd\n",
    "import os, json\n",
    "import matplotlib.pyplot as plt\n",
    "from collections import Counter\n",
    "import seaborn as sns\n",
    "\n",
    "# Set your OpenAI API key\n",
    "# openai.api_key = os.getenv(\"OPENAI_API_KEY\")\n",
    "\n",
    "async def analyze_text(text):\n",
    "    prompt = f\"\"\"Analyze the following text and provide:\n",
    "    1. Sentiment score (from -1 to 1, where -1 is very negative, 0 is neutral, and 1 is very positive)\n",
    "    2. Main topic (a single word in lowercase)\n",
    "    3. Sub-topic (one or two words in lowercase, more specific than the main topic)\n",
    "\n",
    "    Text: {text}\n",
    "\n",
    "    Respond in JSON format with keys 'sentiment', 'main_topic', and 'sub_topic'.\n",
    "    Ensure all topics are in lowercase.\n",
    "    If a sub-topic cannot be determined, use \"general\" as the sub-topic.\n",
    "\n",
    "    Example response:\n",
    "    {{\"sentiment\": 0.5, \"main_topic\": \"github\", \"sub_topic\": \"new feature\"}}\n",
    "    \"\"\"\n",
    "    try:\n",
    "        response = await openai.ChatCompletion.acreate(\n",
    "            model=\"gpt-3.5-turbo\",  # Ensure correct model\n",
    "            messages=[{\"role\": \"user\", \"content\": prompt}],\n",
    "            temperature=0\n",
    "        )\n",
    "        return json.loads(response.choices[0].message[\"content\"])\n",
    "    \n",
    "    except json.JSONDecodeError as e:\n",
    "        print(f\"JSON decode error: {e}\")\n",
    "        return {\"sentiment\": None, \"main_topic\": \"unknown\", \"sub_topic\": \"general\"}\n",
    "    \n",
    "    except Exception as e:\n",
    "        print(f\"Error during API request: {e}\")\n",
    "        return {\"sentiment\": None, \"main_topic\": \"unknown\", \"sub_topic\": \"general\"}\n",
    "\n",
    "async def process_batch(texts, semaphore):\n",
    "    async def process_text(text):\n",
    "        async with semaphore:\n",
    "            return await analyze_text(text)\n",
    "    \n",
    "    tasks = [asyncio.create_task(process_text(text)) for text in texts]\n",
    "    return await asyncio.gather(*tasks)\n"
   ]
  },
  {
   "cell_type": "code",
   "execution_count": 66,
   "metadata": {},
   "outputs": [],
   "source": [
    "# Load Hacker News data\n",
    "column_names = ['id', 'type', 'author', 'created_at', 'title', 'text', 'url', 'score', 'parent']\n",
    "hn_data = pd.read_csv('/Users/raj/Desktop/downloaded_data_dbt/hacker_news/hacker_news_data.csv',header=None, names=column_names)"
   ]
  },
  {
   "cell_type": "code",
   "execution_count": 67,
   "metadata": {},
   "outputs": [
    {
     "data": {
      "text/html": [
       "<div>\n",
       "<style scoped>\n",
       "    .dataframe tbody tr th:only-of-type {\n",
       "        vertical-align: middle;\n",
       "    }\n",
       "\n",
       "    .dataframe tbody tr th {\n",
       "        vertical-align: top;\n",
       "    }\n",
       "\n",
       "    .dataframe thead th {\n",
       "        text-align: right;\n",
       "    }\n",
       "</style>\n",
       "<table border=\"1\" class=\"dataframe\">\n",
       "  <thead>\n",
       "    <tr style=\"text-align: right;\">\n",
       "      <th></th>\n",
       "      <th>id</th>\n",
       "      <th>type</th>\n",
       "      <th>author</th>\n",
       "      <th>created_at</th>\n",
       "      <th>title</th>\n",
       "      <th>text</th>\n",
       "      <th>url</th>\n",
       "      <th>score</th>\n",
       "      <th>parent</th>\n",
       "    </tr>\n",
       "  </thead>\n",
       "  <tbody>\n",
       "    <tr>\n",
       "      <th>0</th>\n",
       "      <td>41225182</td>\n",
       "      <td>comment</td>\n",
       "      <td>by</td>\n",
       "      <td>2024-08-12 14:58:52 UTC</td>\n",
       "      <td>NaN</td>\n",
       "      <td>Neovim. You can use Lua, but you can also use ...</td>\n",
       "      <td>NaN</td>\n",
       "      <td>NaN</td>\n",
       "      <td>41224472.0</td>\n",
       "    </tr>\n",
       "    <tr>\n",
       "      <th>1</th>\n",
       "      <td>41220277</td>\n",
       "      <td>comment</td>\n",
       "      <td>by</td>\n",
       "      <td>2024-08-12 00:40:02 UTC</td>\n",
       "      <td>NaN</td>\n",
       "      <td>There&amp;#x27;s also this which you can run on a ...</td>\n",
       "      <td>NaN</td>\n",
       "      <td>NaN</td>\n",
       "      <td>41218811.0</td>\n",
       "    </tr>\n",
       "    <tr>\n",
       "      <th>2</th>\n",
       "      <td>41220377</td>\n",
       "      <td>comment</td>\n",
       "      <td>by</td>\n",
       "      <td>2024-08-12 01:05:05 UTC</td>\n",
       "      <td>NaN</td>\n",
       "      <td>Don’t think this really fits in with HN guidel...</td>\n",
       "      <td>NaN</td>\n",
       "      <td>NaN</td>\n",
       "      <td>41219544.0</td>\n",
       "    </tr>\n",
       "    <tr>\n",
       "      <th>3</th>\n",
       "      <td>41225843</td>\n",
       "      <td>comment</td>\n",
       "      <td>by</td>\n",
       "      <td>2024-08-12 15:52:12 UTC</td>\n",
       "      <td>NaN</td>\n",
       "      <td>Clicking &amp;quot;New database&amp;quot; doesn&amp;#x27;t...</td>\n",
       "      <td>NaN</td>\n",
       "      <td>NaN</td>\n",
       "      <td>41224286.0</td>\n",
       "    </tr>\n",
       "    <tr>\n",
       "      <th>4</th>\n",
       "      <td>41226964</td>\n",
       "      <td>comment</td>\n",
       "      <td>by</td>\n",
       "      <td>2024-08-12 17:20:46 UTC</td>\n",
       "      <td>NaN</td>\n",
       "      <td>I&amp;#x27;ll echo others&amp;#x27; comments that you ...</td>\n",
       "      <td>NaN</td>\n",
       "      <td>NaN</td>\n",
       "      <td>41224472.0</td>\n",
       "    </tr>\n",
       "  </tbody>\n",
       "</table>\n",
       "</div>"
      ],
      "text/plain": [
       "         id     type author               created_at title  \\\n",
       "0  41225182  comment     by  2024-08-12 14:58:52 UTC   NaN   \n",
       "1  41220277  comment     by  2024-08-12 00:40:02 UTC   NaN   \n",
       "2  41220377  comment     by  2024-08-12 01:05:05 UTC   NaN   \n",
       "3  41225843  comment     by  2024-08-12 15:52:12 UTC   NaN   \n",
       "4  41226964  comment     by  2024-08-12 17:20:46 UTC   NaN   \n",
       "\n",
       "                                                text  url  score      parent  \n",
       "0  Neovim. You can use Lua, but you can also use ...  NaN    NaN  41224472.0  \n",
       "1  There&#x27;s also this which you can run on a ...  NaN    NaN  41218811.0  \n",
       "2  Don’t think this really fits in with HN guidel...  NaN    NaN  41219544.0  \n",
       "3  Clicking &quot;New database&quot; doesn&#x27;t...  NaN    NaN  41224286.0  \n",
       "4  I&#x27;ll echo others&#x27; comments that you ...  NaN    NaN  41224472.0  "
      ]
     },
     "execution_count": 67,
     "metadata": {},
     "output_type": "execute_result"
    }
   ],
   "source": [
    "hn_data.head()"
   ]
  },
  {
   "cell_type": "code",
   "execution_count": 68,
   "metadata": {},
   "outputs": [
    {
     "name": "stdout",
     "output_type": "stream",
     "text": [
      "<class 'pandas.core.frame.DataFrame'>\n",
      "RangeIndex: 1648 entries, 0 to 1647\n",
      "Data columns (total 9 columns):\n",
      " #   Column      Non-Null Count  Dtype \n",
      "---  ------      --------------  ----- \n",
      " 0   id          1648 non-null   int64 \n",
      " 1   type        1648 non-null   object\n",
      " 2   author      1648 non-null   object\n",
      " 3   created_at  1648 non-null   object\n",
      " 4   title       1648 non-null   object\n",
      " 5   text        1313 non-null   object\n",
      " 6   url         1648 non-null   object\n",
      " 7   score       443 non-null    Int64 \n",
      " 8   parent      1205 non-null   Int64 \n",
      "dtypes: Int64(2), int64(1), object(6)\n",
      "memory usage: 119.2+ KB\n",
      "None\n"
     ]
    }
   ],
   "source": [
    "# Data cleaning\n",
    "hn_data['parent'] = pd.to_numeric(hn_data['parent'], errors='coerce').astype('Int64')\n",
    "hn_data['score'] = pd.to_numeric(hn_data['score'], errors='coerce').astype('Int64')\n",
    "hn_data['url'] = hn_data['url'].fillna('')\n",
    "hn_data['title'] = hn_data['url'].fillna('')\n",
    "\n",
    "# Display info about the dataset\n",
    "print(hn_data.info())\n"
   ]
  },
  {
   "cell_type": "code",
   "execution_count": 69,
   "metadata": {},
   "outputs": [
    {
     "name": "stdout",
     "output_type": "stream",
     "text": [
      "         id     type author               created_at title  \\\n",
      "0  41225182  comment     by  2024-08-12 14:58:52 UTC         \n",
      "1  41220277  comment     by  2024-08-12 00:40:02 UTC         \n",
      "2  41220377  comment     by  2024-08-12 01:05:05 UTC         \n",
      "3  41225843  comment     by  2024-08-12 15:52:12 UTC         \n",
      "4  41226964  comment     by  2024-08-12 17:20:46 UTC         \n",
      "\n",
      "                                                text url  score    parent  \n",
      "0  Neovim. You can use Lua, but you can also use ...       <NA>  41224472  \n",
      "1  There&#x27;s also this which you can run on a ...       <NA>  41218811  \n",
      "2  Don’t think this really fits in with HN guidel...       <NA>  41219544  \n",
      "3  Clicking &quot;New database&quot; doesn&#x27;t...       <NA>  41224286  \n",
      "4  I&#x27;ll echo others&#x27; comments that you ...       <NA>  41224472  \n"
     ]
    }
   ],
   "source": [
    "# Display the first few rows to verify the data\n",
    "print(hn_data.head())"
   ]
  },
  {
   "cell_type": "code",
   "execution_count": 70,
   "metadata": {},
   "outputs": [],
   "source": [
    " # Combine title and text for analysis, handling NaN values\n",
    "hn_data['full_text'] = hn_data['title'].fillna('') + ' ' + hn_data['text'].fillna('')"
   ]
  },
  {
   "cell_type": "code",
   "execution_count": 71,
   "metadata": {},
   "outputs": [
    {
     "name": "stdout",
     "output_type": "stream",
     "text": [
      "Processed 50 out of 1648 entries\n",
      "Processed 100 out of 1648 entries\n",
      "Processed 150 out of 1648 entries\n",
      "Processed 200 out of 1648 entries\n",
      "Processed 250 out of 1648 entries\n",
      "Processed 300 out of 1648 entries\n",
      "Processed 350 out of 1648 entries\n",
      "Processed 400 out of 1648 entries\n",
      "Processed 450 out of 1648 entries\n",
      "Processed 500 out of 1648 entries\n",
      "Processed 550 out of 1648 entries\n",
      "Processed 600 out of 1648 entries\n",
      "Processed 650 out of 1648 entries\n",
      "Processed 700 out of 1648 entries\n",
      "Processed 750 out of 1648 entries\n",
      "Processed 800 out of 1648 entries\n",
      "Processed 850 out of 1648 entries\n",
      "Processed 900 out of 1648 entries\n",
      "Processed 950 out of 1648 entries\n",
      "Processed 1000 out of 1648 entries\n",
      "Processed 1050 out of 1648 entries\n",
      "Processed 1100 out of 1648 entries\n",
      "Processed 1150 out of 1648 entries\n",
      "Processed 1200 out of 1648 entries\n",
      "Processed 1250 out of 1648 entries\n",
      "Processed 1300 out of 1648 entries\n",
      "Processed 1350 out of 1648 entries\n",
      "Processed 1400 out of 1648 entries\n",
      "Processed 1450 out of 1648 entries\n",
      "Processed 1500 out of 1648 entries\n",
      "Processed 1550 out of 1648 entries\n",
      "Processed 1600 out of 1648 entries\n",
      "Processed 1648 out of 1648 entries\n"
     ]
    }
   ],
   "source": [
    "# Set up semaphore for rate limiting\n",
    "semaphore = asyncio.Semaphore(10)  # Adjust this value based on your API rate limits\n",
    "\n",
    "# Define batch size\n",
    "batch_size = 50\n",
    "\n",
    "# Initialize an empty list to store all results\n",
    "all_results = []\n",
    "\n",
    "# Loop through the data in batches\n",
    "for i in range(0, len(hn_data), batch_size):\n",
    "    # Get the current batch\n",
    "    batch = hn_data['full_text'][i:i + batch_size].tolist()\n",
    "    \n",
    "    # Process the batch\n",
    "    batch_results = await process_batch(batch, semaphore)\n",
    "    \n",
    "    # Collect the results\n",
    "    all_results.extend([{\n",
    "        'id': hn_data.iloc[i + j]['id'],\n",
    "        'sentiment': result['sentiment'],\n",
    "        'main_topic': result['main_topic'],\n",
    "        'sub_topic': result['sub_topic']\n",
    "    } for j, result in enumerate(batch_results)])\n",
    "    \n",
    "    # Print progress\n",
    "    print(f\"Processed {min(i + batch_size, len(hn_data))} out of {len(hn_data)} entries\")"
   ]
  },
  {
   "cell_type": "code",
   "execution_count": 75,
   "metadata": {},
   "outputs": [
    {
     "data": {
      "text/html": [
       "<div>\n",
       "<style scoped>\n",
       "    .dataframe tbody tr th:only-of-type {\n",
       "        vertical-align: middle;\n",
       "    }\n",
       "\n",
       "    .dataframe tbody tr th {\n",
       "        vertical-align: top;\n",
       "    }\n",
       "\n",
       "    .dataframe thead th {\n",
       "        text-align: right;\n",
       "    }\n",
       "</style>\n",
       "<table border=\"1\" class=\"dataframe\">\n",
       "  <thead>\n",
       "    <tr style=\"text-align: right;\">\n",
       "      <th></th>\n",
       "      <th>id</th>\n",
       "      <th>sentiment</th>\n",
       "      <th>main_topic</th>\n",
       "      <th>sub_topic</th>\n",
       "    </tr>\n",
       "  </thead>\n",
       "  <tbody>\n",
       "    <tr>\n",
       "      <th>0</th>\n",
       "      <td>41225182</td>\n",
       "      <td>0.5</td>\n",
       "      <td>neovim</td>\n",
       "      <td>customization</td>\n",
       "    </tr>\n",
       "    <tr>\n",
       "      <th>1</th>\n",
       "      <td>41220277</td>\n",
       "      <td>0.0</td>\n",
       "      <td>raspberry pi</td>\n",
       "      <td>general</td>\n",
       "    </tr>\n",
       "    <tr>\n",
       "      <th>2</th>\n",
       "      <td>41220377</td>\n",
       "      <td>-0.5</td>\n",
       "      <td>guidelines</td>\n",
       "      <td>general</td>\n",
       "    </tr>\n",
       "    <tr>\n",
       "      <th>3</th>\n",
       "      <td>41225843</td>\n",
       "      <td>-0.6</td>\n",
       "      <td>ui</td>\n",
       "      <td>functionality</td>\n",
       "    </tr>\n",
       "    <tr>\n",
       "      <th>4</th>\n",
       "      <td>41226964</td>\n",
       "      <td>0.6</td>\n",
       "      <td>neovim</td>\n",
       "      <td>lua vs python</td>\n",
       "    </tr>\n",
       "  </tbody>\n",
       "</table>\n",
       "</div>"
      ],
      "text/plain": [
       "         id  sentiment    main_topic      sub_topic\n",
       "0  41225182        0.5        neovim  customization\n",
       "1  41220277        0.0  raspberry pi        general\n",
       "2  41220377       -0.5    guidelines        general\n",
       "3  41225843       -0.6            ui  functionality\n",
       "4  41226964        0.6        neovim  lua vs python"
      ]
     },
     "execution_count": 75,
     "metadata": {},
     "output_type": "execute_result"
    }
   ],
   "source": [
    "# Create DataFrame from results\n",
    "results_df = pd.DataFrame(all_results)\n",
    "results_df.head()"
   ]
  },
  {
   "cell_type": "code",
   "execution_count": 76,
   "metadata": {},
   "outputs": [],
   "source": [
    "# Save results\n",
    "results_df.to_csv('/Users/raj/Desktop/downloaded_data_dbt/hacker_news/hn_sentiment_topics.csv', index=False)\n",
    "\n",
    "# Analyze topics\n",
    "main_topic_counts = Counter(results_df['main_topic'])\n",
    "sub_topic_counts = Counter(results_df['sub_topic'])\n",
    "top_main_topics = dict(main_topic_counts.most_common(10))\n",
    "top_sub_topics = dict(sub_topic_counts.most_common(10))"
   ]
  },
  {
   "cell_type": "code",
   "execution_count": 84,
   "metadata": {},
   "outputs": [
    {
     "data": {
      "text/plain": [
       "<Figure size 1500x1500 with 0 Axes>"
      ]
     },
     "execution_count": 84,
     "metadata": {},
     "output_type": "execute_result"
    },
    {
     "data": {
      "text/plain": [
       "<Figure size 1500x1500 with 0 Axes>"
      ]
     },
     "metadata": {},
     "output_type": "display_data"
    }
   ],
   "source": [
    "# Analyze sentiment\n",
    "results_df['sentiment'] = pd.to_numeric(results_df['sentiment'], errors='coerce')\n",
    "sentiment_distribution = results_df['sentiment'].value_counts(normalize=True, bins=[-1, -0.5, 0, 0.5, 1]) * 100\n",
    "\n",
    "# Visualizations\n",
    "plt.figure(figsize=(15, 15))"
   ]
  },
  {
   "cell_type": "code",
   "execution_count": 85,
   "metadata": {},
   "outputs": [
    {
     "data": {
      "text/plain": [
       "Text(0, 0.5, 'Count')"
      ]
     },
     "execution_count": 85,
     "metadata": {},
     "output_type": "execute_result"
    },
    {
     "data": {
      "image/png": "[encoded data removed]",
      "text/plain": [
       "<Figure size 640x480 with 1 Axes>"
      ]
     },
     "metadata": {},
     "output_type": "display_data"
    }
   ],
   "source": [
    "# Top 10 Main Topics\n",
    "plt.subplot(3, 1, 1)\n",
    "plt.bar(top_main_topics.keys(), top_main_topics.values())\n",
    "plt.title('Top 10 Main Topics')\n",
    "plt.xticks(rotation=45, ha='right')\n",
    "plt.ylabel('Count')"
   ]
  },
  {
   "cell_type": "code",
   "execution_count": 86,
   "metadata": {},
   "outputs": [
    {
     "data": {
      "text/plain": [
       "Text(0, 0.5, 'Count')"
      ]
     },
     "execution_count": 86,
     "metadata": {},
     "output_type": "execute_result"
    },
    {
     "data": {
      "image/png": "[encoded data removed]",
      "text/plain": [
       "<Figure size 640x480 with 1 Axes>"
      ]
     },
     "metadata": {},
     "output_type": "display_data"
    }
   ],
   "source": [
    "# Top 10 Sub Topics\n",
    "plt.subplot(3, 1, 2)\n",
    "plt.bar(top_sub_topics.keys(), top_sub_topics.values())\n",
    "plt.title('Top 10 Sub Topics')\n",
    "plt.xticks(rotation=45, ha='right')\n",
    "plt.ylabel('Count')"
   ]
  },
  {
   "cell_type": "code",
   "execution_count": 89,
   "metadata": {},
   "outputs": [],
   "source": [
    "# Sentiment Distribution\n",
    "plt.subplot(3, 1, 3)\n",
    "sns.histplot(results_df['sentiment'], kde=True, bins=20)\n",
    "plt.title('Sentiment Distribution')\n",
    "plt.xlabel('Sentiment Score')\n",
    "plt.ylabel('Count')\n",
    "\n",
    "plt.tight_layout()\n",
    "plt.savefig('/Users/raj/Desktop/downloaded_data_dbt/hacker_news/hn_analysis_results.png')\n",
    "plt.close()"
   ]
  },
  {
   "cell_type": "code",
   "execution_count": 88,
   "metadata": {},
   "outputs": [
    {
     "name": "stdout",
     "output_type": "stream",
     "text": [
      "\n",
      "Top 10 Main Topics:\n",
      "github: 434\n",
      "programming: 85\n",
      "coding: 45\n",
      "software: 33\n",
      "technology: 28\n",
      "gitlab: 28\n",
      "security: 21\n",
      "git: 16\n",
      "project: 15\n",
      "development: 14\n",
      "\n",
      "Top 10 Sub Topics:\n",
      "general: 158\n",
      "open source: 52\n",
      "repository: 43\n",
      "development: 29\n",
      "code repository: 24\n",
      "integration: 19\n",
      "library: 19\n",
      "tools: 12\n",
      "downtime: 12\n",
      "features: 11\n",
      "\n",
      "Sentiment Distribution:\n",
      "(0.0, 0.5]        35.558252\n",
      "(0.5, 1.0]        32.706311\n",
      "(-0.5, 0.0]       22.087379\n",
      "(-1.001, -0.5]     9.648058\n",
      "Name: proportion, dtype: float64\n",
      "\n",
      "Analysis complete. Results saved to 'hn_sentiment_topics.csv' and visualizations saved to 'hn_analysis_results.png'.\n"
     ]
    }
   ],
   "source": [
    "# Print summary\n",
    "print(\"\\nTop 10 Main Topics:\")\n",
    "for topic, count in top_main_topics.items():\n",
    "    print(f\"{topic}: {count}\")\n",
    "\n",
    "print(\"\\nTop 10 Sub Topics:\")\n",
    "for topic, count in top_sub_topics.items():\n",
    "    print(f\"{topic}: {count}\")\n",
    "\n",
    "print(\"\\nSentiment Distribution:\")\n",
    "print(sentiment_distribution)\n",
    "\n",
    "print(\"\\nAnalysis complete. Results saved to 'hn_sentiment_topics.csv' and visualizations saved to 'hn_analysis_results.png'.\")\n"
   ]
  }
 ],
 "metadata": {
  "kernelspec": {
   "display_name": "Python 3",
   "language": "python",
   "name": "python3"
  },
  "language_info": {
   "codemirror_mode": {
    "name": "ipython",
    "version": 3
   },
   "file_extension": ".py",
   "mimetype": "text/x-python",
   "name": "python",
   "nbconvert_exporter": "python",
   "pygments_lexer": "ipython3",
   "version": "3.11.4"
  }
 },
 "nbformat": 4,
 "nbformat_minor": 2
}
